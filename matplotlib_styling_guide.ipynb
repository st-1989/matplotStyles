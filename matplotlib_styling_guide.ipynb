{
 "cells": [
  {
   "cell_type": "markdown",
   "metadata": {},
   "source": [
    "# Matplotlibスタイルライブラリガイド\n",
    "\n",
    "このノートブックでは、matplotlibのグラフを美しくするための3つのライブラリの使い方を説明します：\n",
    "\n",
    "1. **matplotx** - シンプルで洗練されたスタイルを提供\n",
    "2. **scienceplot (SciencePlots)** - 学術論文向けの美しいスタイル\n",
    "3. **moretheme** - 多様なカラーテーマを提供\n",
    "\n",
    "## インストール\n",
    "\n",
    "まず、必要なライブラリをインストールします："
   ]
  },
  {
   "cell_type": "code",
   "execution_count": null,
   "metadata": {},
   "outputs": [],
   "source": [
    "# 必要なライブラリのインストール\n",
    "# !pip install matplotx scienceplots moretheme matplotlib numpy"
   ]
  },
  {
   "cell_type": "code",
   "execution_count": null,
   "metadata": {},
   "outputs": [],
   "source": [
    "import numpy as np\n",
    "import matplotlib.pyplot as plt\n",
    "\n",
    "# サンプルデータの作成\n",
    "x = np.linspace(0, 10, 100)\n",
    "y1 = np.sin(x)\n",
    "y2 = np.cos(x)\n",
    "y3 = np.sin(x) * np.exp(-x/10)"
   ]
  },
  {
   "cell_type": "markdown",
   "metadata": {},
   "source": [
    "## 1. デフォルトのmatplotlibスタイル\n",
    "\n",
    "まず、デフォルトのmatplotlibでどのように見えるか確認します。"
   ]
  },
  {
   "cell_type": "code",
   "execution_count": null,
   "metadata": {},
   "outputs": [],
   "source": [
    "# デフォルトスタイルにリセット\n",
    "plt.style.use('default')\n",
    "\n",
    "fig, ax = plt.subplots(figsize=(10, 6))\n",
    "ax.plot(x, y1, label='sin(x)', linewidth=2)\n",
    "ax.plot(x, y2, label='cos(x)', linewidth=2)\n",
    "ax.plot(x, y3, label='sin(x)·exp(-x/10)', linewidth=2)\n",
    "ax.set_xlabel('X軸')\n",
    "ax.set_ylabel('Y軸')\n",
    "ax.set_title('デフォルトスタイル')\n",
    "ax.legend()\n",
    "ax.grid(True, alpha=0.3)\n",
    "plt.tight_layout()\n",
    "plt.show()"
   ]
  },
  {
   "cell_type": "markdown",
   "metadata": {},
   "source": [
    "## 2. matplotx\n",
    "\n",
    "matplotxは、シンプルで洗練されたスタイルを提供します。特に、dufte（ドイツ語で「香り」）スタイルが人気です。"
   ]
  },
  {
   "cell_type": "code",
   "execution_count": null,
   "metadata": {},
   "outputs": [],
   "source": [
    "import matplotx\n",
    "\n",
    "# 利用可能なスタイルを確認\n",
    "print(\"matplotxで利用可能なスタイル:\")\n",
    "print([style for style in plt.style.available if 'matplotx' in style or 'dufte' in style])"
   ]
  },
  {
   "cell_type": "markdown",
   "metadata": {},
   "source": [
    "### 2.1 dufteスタイル\n",
    "\n",
    "dufteスタイルは、余計な要素を削ぎ落としたミニマルなデザインです。"
   ]
  },
  {
   "cell_type": "code",
   "execution_count": null,
   "metadata": {},
   "outputs": [],
   "source": [
    "with plt.style.context(matplotx.styles.dufte):\n",
    "    fig, ax = plt.subplots(figsize=(10, 6))\n",
    "    ax.plot(x, y1, label='sin(x)', linewidth=2)\n",
    "    ax.plot(x, y2, label='cos(x)', linewidth=2)\n",
    "    ax.plot(x, y3, label='sin(x)·exp(-x/10)', linewidth=2)\n",
    "    ax.set_xlabel('X軸')\n",
    "    ax.set_ylabel('Y軸')\n",
    "    ax.set_title('matplotx - dufteスタイル')\n",
    "    matplotx.line_labels()  # ラベルを線の横に直接表示\n",
    "    plt.tight_layout()\n",
    "    plt.show()"
   ]
  },
  {
   "cell_type": "markdown",
   "metadata": {},
   "source": [
    "### 2.2 matplotxのその他の機能\n",
    "\n",
    "matplotxは、便利なヘルパー関数も提供しています。"
   ]
  },
  {
   "cell_type": "code",
   "execution_count": null,
   "metadata": {},
   "outputs": [],
   "source": [
    "# clean_figureを使用した例\n",
    "with plt.style.context(matplotx.styles.dufte):\n",
    "    fig, ax = plt.subplots(figsize=(10, 6))\n",
    "    ax.plot(x, y1, label='sin(x)', linewidth=2)\n",
    "    ax.plot(x, y2, label='cos(x)', linewidth=2)\n",
    "    ax.set_xlabel('X軸')\n",
    "    ax.set_ylabel('Y軸')\n",
    "    ax.set_title('matplotx - clean_figure使用例')\n",
    "    matplotx.ylabel_top(ax)  # Y軸ラベルを上部に配置\n",
    "    matplotx.line_labels()\n",
    "    plt.tight_layout()\n",
    "    plt.show()"
   ]
  },
  {
   "cell_type": "markdown",
   "metadata": {},
   "source": [
    "## 3. scienceplot (SciencePlots)\n",
    "\n",
    "scienceplotは、学術論文に適したスタイルを提供します。IEEE、Nature、Scienceなどのジャーナルスタイルが利用可能です。"
   ]
  },
  {
   "cell_type": "code",
   "execution_count": null,
   "metadata": {},
   "outputs": [],
   "source": [
    "# 利用可能なscienceスタイルを確認\n",
    "print(\"scienceplotで利用可能なスタイル:\")\n",
    "science_styles = [style for style in plt.style.available if 'science' in style.lower()]\n",
    "print(science_styles)"
   ]
  },
  {
   "cell_type": "markdown",
   "metadata": {},
   "source": [
    "### 3.1 基本のscienceスタイル"
   ]
  },
  {
   "cell_type": "code",
   "execution_count": null,
   "metadata": {},
   "outputs": [],
   "source": [
    "with plt.style.context(['science']):\n",
    "    fig, ax = plt.subplots(figsize=(10, 6))\n",
    "    ax.plot(x, y1, label='sin(x)', linewidth=2)\n",
    "    ax.plot(x, y2, label='cos(x)', linewidth=2)\n",
    "    ax.plot(x, y3, label='sin(x)·exp(-x/10)', linewidth=2)\n",
    "    ax.set_xlabel('X-axis')\n",
    "    ax.set_ylabel('Y-axis')\n",
    "    ax.set_title('SciencePlots - Basic Science Style')\n",
    "    ax.legend()\n",
    "    plt.tight_layout()\n",
    "    plt.show()"
   ]
  },
  {
   "cell_type": "markdown",
   "metadata": {},
   "source": [
    "### 3.2 IEEEスタイル\n",
    "\n",
    "IEEE論文向けのスタイル。2カラムレイアウトに適しています。"
   ]
  },
  {
   "cell_type": "code",
   "execution_count": null,
   "metadata": {},
   "outputs": [],
   "source": [
    "with plt.style.context(['science', 'ieee']):\n",
    "    fig, ax = plt.subplots(figsize=(7, 5))\n",
    "    ax.plot(x, y1, label='sin(x)', linewidth=1.5)\n",
    "    ax.plot(x, y2, label='cos(x)', linewidth=1.5)\n",
    "    ax.plot(x, y3, label='sin(x)·exp(-x/10)', linewidth=1.5)\n",
    "    ax.set_xlabel('X-axis')\n",
    "    ax.set_ylabel('Y-axis')\n",
    "    ax.set_title('SciencePlots - IEEE Style')\n",
    "    ax.legend()\n",
    "    plt.tight_layout()\n",
    "    plt.show()"
   ]
  },
  {
   "cell_type": "markdown",
   "metadata": {},
   "source": [
    "### 3.3 scienceスタイルとカラーパレットの組み合わせ\n",
    "\n",
    "複数のスタイルを組み合わせることもできます。"
   ]
  },
  {
   "cell_type": "code",
   "execution_count": null,
   "metadata": {},
   "outputs": [],
   "source": [
    "# bright, vibrant, mutedなどのカラーパレットが利用可能\n",
    "with plt.style.context(['science', 'bright']):\n",
    "    fig, ax = plt.subplots(figsize=(10, 6))\n",
    "    ax.plot(x, y1, label='sin(x)', linewidth=2)\n",
    "    ax.plot(x, y2, label='cos(x)', linewidth=2)\n",
    "    ax.plot(x, y3, label='sin(x)·exp(-x/10)', linewidth=2)\n",
    "    ax.set_xlabel('X-axis')\n",
    "    ax.set_ylabel('Y-axis')\n",
    "    ax.set_title('SciencePlots - Science + Bright')\n",
    "    ax.legend()\n",
    "    plt.tight_layout()\n",
    "    plt.show()"
   ]
  },
  {
   "cell_type": "markdown",
   "metadata": {},
   "source": [
    "### 3.4 グリッドスタイル"
   ]
  },
  {
   "cell_type": "code",
   "execution_count": null,
   "metadata": {},
   "outputs": [],
   "source": [
    "with plt.style.context(['science', 'grid']):\n",
    "    fig, ax = plt.subplots(figsize=(10, 6))\n",
    "    ax.plot(x, y1, label='sin(x)', linewidth=2)\n",
    "    ax.plot(x, y2, label='cos(x)', linewidth=2)\n",
    "    ax.plot(x, y3, label='sin(x)·exp(-x/10)', linewidth=2)\n",
    "    ax.set_xlabel('X-axis')\n",
    "    ax.set_ylabel('Y-axis')\n",
    "    ax.set_title('SciencePlots - Science + Grid')\n",
    "    ax.legend()\n",
    "    plt.tight_layout()\n",
    "    plt.show()"
   ]
  },
  {
   "cell_type": "markdown",
   "metadata": {},
   "source": [
    "## 4. moretheme\n",
    "\n",
    "morethemeは、多様なカラーテーマを提供します。ダークテーマやカラフルなテーマが揃っています。"
   ]
  },
  {
   "cell_type": "code",
   "execution_count": null,
   "metadata": {},
   "outputs": [],
   "source": [
    "import moretheme\n",
    "\n",
    "# 利用可能なテーマを確認\n",
    "print(\"morethemeで利用可能なテーマ:\")\n",
    "moretheme_styles = [style for style in plt.style.available if 'moretheme' in style]\n",
    "print(moretheme_styles)"
   ]
  },
  {
   "cell_type": "markdown",
   "metadata": {},
   "source": [
    "### 4.1 ダークテーマ"
   ]
  },
  {
   "cell_type": "code",
   "execution_count": null,
   "metadata": {},
   "outputs": [],
   "source": [
    "# moretheme.darkテーマを使用\n",
    "try:\n",
    "    with plt.style.context('moretheme.dark'):\n",
    "        fig, ax = plt.subplots(figsize=(10, 6))\n",
    "        ax.plot(x, y1, label='sin(x)', linewidth=2)\n",
    "        ax.plot(x, y2, label='cos(x)', linewidth=2)\n",
    "        ax.plot(x, y3, label='sin(x)·exp(-x/10)', linewidth=2)\n",
    "        ax.set_xlabel('X軸')\n",
    "        ax.set_ylabel('Y軸')\n",
    "        ax.set_title('moretheme - Dark Theme')\n",
    "        ax.legend()\n",
    "        ax.grid(True, alpha=0.3)\n",
    "        plt.tight_layout()\n",
    "        plt.show()\n",
    "except:\n",
    "    print(\"moretheme.darkが利用できません。別のテーマを試してください。\")"
   ]
  },
  {
   "cell_type": "markdown",
   "metadata": {},
   "source": [
    "### 4.2 その他のmorethemeテーマ\n",
    "\n",
    "morethemeには様々なテーマが用意されています。"
   ]
  },
  {
   "cell_type": "code",
   "execution_count": null,
   "metadata": {},
   "outputs": [],
   "source": [
    "# 複数のテーマを試す\n",
    "moretheme_available = [s for s in plt.style.available if 'moretheme' in s]\n",
    "\n",
    "if moretheme_available:\n",
    "    # 最初の利用可能なテーマを使用\n",
    "    theme_name = moretheme_available[0]\n",
    "    with plt.style.context(theme_name):\n",
    "        fig, ax = plt.subplots(figsize=(10, 6))\n",
    "        ax.plot(x, y1, label='sin(x)', linewidth=2)\n",
    "        ax.plot(x, y2, label='cos(x)', linewidth=2)\n",
    "        ax.plot(x, y3, label='sin(x)·exp(-x/10)', linewidth=2)\n",
    "        ax.set_xlabel('X軸')\n",
    "        ax.set_ylabel('Y軸')\n",
    "        ax.set_title(f'moretheme - {theme_name}')\n",
    "        ax.legend()\n",
    "        ax.grid(True, alpha=0.3)\n",
    "        plt.tight_layout()\n",
    "        plt.show()\n",
    "else:\n",
    "    print(\"morethemeのスタイルが見つかりません。\")"
   ]
  },
  {
   "cell_type": "markdown",
   "metadata": {},
   "source": [
    "## 5. 比較：散布図の例\n",
    "\n",
    "散布図で各スタイルを比較してみましょう。"
   ]
  },
  {
   "cell_type": "code",
   "execution_count": null,
   "metadata": {},
   "outputs": [],
   "source": [
    "# サンプルデータ\n",
    "np.random.seed(42)\n",
    "x_scatter = np.random.randn(100)\n",
    "y_scatter = 2 * x_scatter + np.random.randn(100) * 0.5\n",
    "colors = np.random.rand(100)\n",
    "sizes = 1000 * np.random.rand(100)"
   ]
  },
  {
   "cell_type": "code",
   "execution_count": null,
   "metadata": {},
   "outputs": [],
   "source": [
    "# デフォルトスタイル\n",
    "plt.style.use('default')\n",
    "fig, ax = plt.subplots(figsize=(8, 6))\n",
    "scatter = ax.scatter(x_scatter, y_scatter, c=colors, s=sizes, alpha=0.6, cmap='viridis')\n",
    "ax.set_xlabel('X軸')\n",
    "ax.set_ylabel('Y軸')\n",
    "ax.set_title('デフォルトスタイル - 散布図')\n",
    "plt.colorbar(scatter, ax=ax, label='Color value')\n",
    "plt.tight_layout()\n",
    "plt.show()"
   ]
  },
  {
   "cell_type": "code",
   "execution_count": null,
   "metadata": {},
   "outputs": [],
   "source": [
    "# matplotx dufteスタイル\n",
    "with plt.style.context(matplotx.styles.dufte):\n",
    "    fig, ax = plt.subplots(figsize=(8, 6))\n",
    "    scatter = ax.scatter(x_scatter, y_scatter, c=colors, s=sizes, alpha=0.6, cmap='viridis')\n",
    "    ax.set_xlabel('X軸')\n",
    "    ax.set_ylabel('Y軸')\n",
    "    ax.set_title('matplotx dufte - 散布図')\n",
    "    plt.colorbar(scatter, ax=ax, label='Color value')\n",
    "    plt.tight_layout()\n",
    "    plt.show()"
   ]
  },
  {
   "cell_type": "code",
   "execution_count": null,
   "metadata": {},
   "outputs": [],
   "source": [
    "# scienceスタイル\n",
    "with plt.style.context(['science']):\n",
    "    fig, ax = plt.subplots(figsize=(8, 6))\n",
    "    scatter = ax.scatter(x_scatter, y_scatter, c=colors, s=sizes, alpha=0.6, cmap='viridis')\n",
    "    ax.set_xlabel('X-axis')\n",
    "    ax.set_ylabel('Y-axis')\n",
    "    ax.set_title('SciencePlots - Scatter Plot')\n",
    "    plt.colorbar(scatter, ax=ax, label='Color value')\n",
    "    plt.tight_layout()\n",
    "    plt.show()"
   ]
  },
  {
   "cell_type": "markdown",
   "metadata": {},
   "source": [
    "## 6. 実践的な使用例\n",
    "\n",
    "### 6.1 サブプロットでの使用"
   ]
  },
  {
   "cell_type": "code",
   "execution_count": null,
   "metadata": {},
   "outputs": [],
   "source": [
    "with plt.style.context(['science', 'grid']):\n",
    "    fig, axes = plt.subplots(2, 2, figsize=(12, 10))\n",
    "    \n",
    "    # サブプロット1: 折れ線グラフ\n",
    "    axes[0, 0].plot(x, y1, label='sin(x)')\n",
    "    axes[0, 0].plot(x, y2, label='cos(x)')\n",
    "    axes[0, 0].set_title('Line Plot')\n",
    "    axes[0, 0].legend()\n",
    "    axes[0, 0].set_xlabel('X-axis')\n",
    "    axes[0, 0].set_ylabel('Y-axis')\n",
    "    \n",
    "    # サブプロット2: 散布図\n",
    "    axes[0, 1].scatter(x_scatter, y_scatter, alpha=0.6)\n",
    "    axes[0, 1].set_title('Scatter Plot')\n",
    "    axes[0, 1].set_xlabel('X-axis')\n",
    "    axes[0, 1].set_ylabel('Y-axis')\n",
    "    \n",
    "    # サブプロット3: ヒストグラム\n",
    "    axes[1, 0].hist(np.random.randn(1000), bins=30, alpha=0.7, edgecolor='black')\n",
    "    axes[1, 0].set_title('Histogram')\n",
    "    axes[1, 0].set_xlabel('Value')\n",
    "    axes[1, 0].set_ylabel('Frequency')\n",
    "    \n",
    "    # サブプロット4: 棒グラフ\n",
    "    categories = ['A', 'B', 'C', 'D', 'E']\n",
    "    values = np.random.randint(10, 100, 5)\n",
    "    axes[1, 1].bar(categories, values, alpha=0.7)\n",
    "    axes[1, 1].set_title('Bar Chart')\n",
    "    axes[1, 1].set_xlabel('Category')\n",
    "    axes[1, 1].set_ylabel('Value')\n",
    "    \n",
    "    plt.tight_layout()\n",
    "    plt.show()"
   ]
  },
  {
   "cell_type": "markdown",
   "metadata": {},
   "source": [
    "### 6.2 論文用の図の作成（高解像度保存）"
   ]
  },
  {
   "cell_type": "code",
   "execution_count": null,
   "metadata": {},
   "outputs": [],
   "source": [
    "with plt.style.context(['science', 'ieee']):\n",
    "    fig, ax = plt.subplots(figsize=(7, 5))\n",
    "    ax.plot(x, y1, label='Method A', linewidth=1.5, marker='o', markersize=4, markevery=10)\n",
    "    ax.plot(x, y2, label='Method B', linewidth=1.5, marker='s', markersize=4, markevery=10)\n",
    "    ax.plot(x, y3, label='Proposed', linewidth=1.5, marker='^', markersize=4, markevery=10)\n",
    "    ax.set_xlabel('Time [s]')\n",
    "    ax.set_ylabel('Amplitude')\n",
    "    ax.set_title('Comparison of Methods')\n",
    "    ax.legend(loc='best')\n",
    "    plt.tight_layout()\n",
    "    \n",
    "    # 高解像度で保存（コメントアウトを解除して使用）\n",
    "    # plt.savefig('publication_figure.pdf', dpi=300, bbox_inches='tight')\n",
    "    # plt.savefig('publication_figure.png', dpi=300, bbox_inches='tight')\n",
    "    \n",
    "    plt.show()"
   ]
  },
  {
   "cell_type": "markdown",
   "metadata": {},
   "source": [
    "## 7. まとめと推奨事項\n",
    "\n",
    "### 各ライブラリの特徴と使い分け\n",
    "\n",
    "#### **matplotx**\n",
    "- **特徴**: ミニマルでモダンなデザイン\n",
    "- **適用場面**: プレゼンテーション、Webページ、ダッシュボード\n",
    "- **メリット**: 余計な要素が少なく見やすい、`line_labels()`などの便利機能\n",
    "\n",
    "#### **scienceplot (SciencePlots)**\n",
    "- **特徴**: 学術論文向けの厳格なスタイル\n",
    "- **適用場面**: 学術論文、技術レポート、学会発表\n",
    "- **メリット**: IEEE、Nature、Scienceなど主要ジャーナルのスタイルを再現\n",
    "\n",
    "#### **moretheme**\n",
    "- **特徴**: 豊富なカラーテーマ（ダーク、ライト、カラフルなど）\n",
    "- **適用場面**: 多様なビジュアル表現が必要な場合\n",
    "- **メリット**: 様々な背景色やカラースキームに対応\n",
    "\n",
    "### 使用上のヒント\n",
    "\n",
    "1. **スタイルの組み合わせ**: `plt.style.context(['science', 'grid'])`のように複数のスタイルを組み合わせ可能\n",
    "2. **コンテキストマネージャーの使用**: `with plt.style.context()`を使えば、一時的にスタイルを適用できる\n",
    "3. **保存時の設定**: 論文用には`dpi=300`以上、`bbox_inches='tight'`を推奨\n",
    "4. **フォント**: LaTeX表記が必要な場合は、適切な設定が必要"
   ]
  },
  {
   "cell_type": "markdown",
   "metadata": {},
   "source": [
    "## 8. トラブルシューティング\n",
    "\n",
    "### LaTeXフォントが使えない場合\n",
    "\n",
    "一部のスタイル（特にSciencePlots）はLaTeXを使用します。LaTeXがインストールされていない場合はエラーが出ることがあります。"
   ]
  },
  {
   "cell_type": "code",
   "execution_count": null,
   "metadata": {},
   "outputs": [],
   "source": [
    "# LaTeXなしでscienceスタイルを使う場合\n",
    "with plt.style.context(['science', 'no-latex']):\n",
    "    fig, ax = plt.subplots(figsize=(8, 6))\n",
    "    ax.plot(x, y1, label='sin(x)')\n",
    "    ax.plot(x, y2, label='cos(x)')\n",
    "    ax.set_xlabel('X-axis')\n",
    "    ax.set_ylabel('Y-axis')\n",
    "    ax.set_title('SciencePlots without LaTeX')\n",
    "    ax.legend()\n",
    "    plt.tight_layout()\n",
    "    plt.show()"
   ]
  },
  {
   "cell_type": "markdown",
   "metadata": {},
   "source": [
    "### スタイルが見つからない場合\n",
    "\n",
    "利用可能なすべてのスタイルを確認できます。"
   ]
  },
  {
   "cell_type": "code",
   "execution_count": null,
   "metadata": {},
   "outputs": [],
   "source": [
    "# すべての利用可能なスタイルを表示\n",
    "print(\"利用可能なすべてのスタイル:\")\n",
    "for style in sorted(plt.style.available):\n",
    "    print(f\"  - {style}\")"
   ]
  },
  {
   "cell_type": "markdown",
   "metadata": {},
   "source": [
    "## 参考リンク\n",
    "\n",
    "- matplotx: https://github.com/nschloe/matplotx\n",
    "- SciencePlots: https://github.com/garrettj403/SciencePlots\n",
    "- moretheme: https://github.com/matplotlib/moretheme (または該当するリポジトリ)\n",
    "\n",
    "このノートブックが、matplotlibのスタイリングライブラリを使いこなす助けになれば幸いです！"
   ]
  }
 ],
 "metadata": {
  "kernelspec": {
   "display_name": "Python 3",
   "language": "python",
   "name": "python3"
  },
  "language_info": {
   "codemirror_mode": {
    "name": "ipython",
    "version": 3
   },
   "file_extension": ".py",
   "mimetype": "text/x-python",
   "name": "python",
   "nbconvert_exporter": "python",
   "pygments_lexer": "ipython3",
   "version": "3.8.0"
  }
 },
 "nbformat": 4,
 "nbformat_minor": 4
}
